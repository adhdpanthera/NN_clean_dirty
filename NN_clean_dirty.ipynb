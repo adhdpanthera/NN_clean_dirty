{
  "nbformat": 4,
  "nbformat_minor": 0,
  "metadata": {
    "colab": {
      "name": "NN_clean_dirty.ipynb",
      "provenance": [],
      "collapsed_sections": [],
      "authorship_tag": "ABX9TyNDgn0zB3l/Mv46vHYF4ol5",
      "include_colab_link": true
    },
    "kernelspec": {
      "name": "python3",
      "display_name": "Python 3"
    },
    "language_info": {
      "name": "python"
    }
  },
  "cells": [
    {
      "cell_type": "markdown",
      "metadata": {
        "id": "view-in-github",
        "colab_type": "text"
      },
      "source": [
        "<a href=\"https://colab.research.google.com/github/adhdpanthera/NN_clean_dirty/blob/main/NN_clean_dirty.ipynb\" target=\"_parent\"><img src=\"https://colab.research.google.com/assets/colab-badge.svg\" alt=\"Open In Colab\"/></a>"
      ]
    },
    {
      "cell_type": "markdown",
      "source": [
        "# Cleaned vs Dirty V2\n",
        "Classify if a plate is cleaned or dirty?\n",
        "https://www.kaggle.com/c/platesv2\n",
        "Transfer learning, берем resnet и дообучаем"
      ],
      "metadata": {
        "id": "GFUcvbV7Pd6I"
      }
    },
    {
      "cell_type": "code",
      "execution_count": null,
      "metadata": {
        "id": "217n2ODLOVg9"
      },
      "outputs": [],
      "source": [
        "import numpy as np # linear algebra\n",
        "import pandas as pd # data processing, CSV file I/O (e.g. pd.read_csv)\n",
        "\n",
        "# Input data files are available in the \"../input/\" directory.\n",
        "# For example, running this (by clicking run or pressing Shift+Enter) will list the files in the input directory"
      ]
    },
    {
      "cell_type": "code",
      "source": [
        "import os\n",
        "print(os.listdir(\"../input\"))"
      ],
      "metadata": {
        "id": "8GPHZRzaRLSi"
      },
      "execution_count": null,
      "outputs": []
    },
    {
      "cell_type": "code",
      "source": [
        "import zipfile\n",
        "with zipfile.ZipFile('../input/plates.zip', 'r') as zip_obj:\n",
        "   # Extract all the contents of zip file in current directory\n",
        "   zip_obj.extractall('/kaggle/working/')\n",
        "    \n",
        "print('After zip extraction:')\n",
        "print(os.listdir(\"/kaggle/working/\"))"
      ],
      "metadata": {
        "id": "dSKb_a3WRQRA"
      },
      "execution_count": null,
      "outputs": []
    },
    {
      "cell_type": "code",
      "source": [
        "data_root = '/kaggle/working/plates/'\n",
        "print(os.listdir(data_root))"
      ],
      "metadata": {
        "id": "d1TR-L8SP7HG"
      },
      "execution_count": null,
      "outputs": []
    },
    {
      "cell_type": "markdown",
      "source": [
        "Разделим тренирвочный датасет на собственно тренировочный и валидационный, помещая в тренирвочный каждую 6 фотографию"
      ],
      "metadata": {
        "id": "X4MzILXqXZ2E"
      }
    },
    {
      "cell_type": "code",
      "source": [
        "import shutil \n",
        "from tqdm import tqdm\n",
        "\n",
        "train_dir = 'train'\n",
        "val_dir = 'val'\n",
        "\n",
        "class_names = ['cleaned', 'dirty']\n",
        "\n",
        "for dir_name in [train_dir, val_dir]:\n",
        "    for class_name in class_names:\n",
        "        os.makedirs(os.path.join(dir_name, class_name), exist_ok=True)\n",
        "\n",
        "for class_name in class_names:\n",
        "    source_dir = os.path.join(data_root, 'train', class_name)\n",
        "    for i, file_name in enumerate(tqdm(os.listdir(source_dir))):\n",
        "        if i % 6 != 0:\n",
        "            dest_dir = os.path.join(train_dir, class_name) \n",
        "        else:\n",
        "            dest_dir = os.path.join(val_dir, class_name)\n",
        "        shutil.copy(os.path.join(source_dir, file_name), os.path.join(dest_dir, file_name))"
      ],
      "metadata": {
        "id": "MbGHJVQmP7E1"
      },
      "execution_count": null,
      "outputs": []
    },
    {
      "cell_type": "code",
      "source": [
        "!ls train"
      ],
      "metadata": {
        "id": "o8--vWpvP7CI"
      },
      "execution_count": null,
      "outputs": []
    },
    {
      "cell_type": "markdown",
      "source": [
        "ImageFolder позволяет работать с папками. Он возвращает два значения: изображение и его метка. Метка берется из названия папки. Указание train_transforms позволяет получать именно тензоры, что нам и нужно. Ужимаем до размера 224х224, так как модель resnet предобучена как раз на изображениях такого размера. Normalize используем, что привести наши картинки к картинкам, на которых изначально resnet был обучен"
      ],
      "metadata": {
        "id": "PgSrcYBLX7et"
      }
    },
    {
      "cell_type": "markdown",
      "source": [
        "Чтобы увеличить датасет и улучишть обучение, мы используем RandomResizedCrop, который вырезает некоторый прямоугольник из исходного изображения, а затем снова ресайзит его до 224х224. Также используем RandomHorizontalFlip, который поворачивает исходное изображение на рандомный угол"
      ],
      "metadata": {
        "id": "gvpao88GZUaU"
      }
    },
    {
      "cell_type": "markdown",
      "source": [
        "Нам нужны не просто данные, а батчи данных, поэтому используем DataLoader"
      ],
      "metadata": {
        "id": "4YpesyyUZ9Wl"
      }
    },
    {
      "cell_type": "markdown",
      "source": [
        "Для параллелизма выполнения используем num_workers, которые будут заниматься трансформациями transforms"
      ],
      "metadata": {
        "id": "kIyQSHQRaLvZ"
      }
    },
    {
      "cell_type": "code",
      "source": [
        "import torch\n",
        "import numpy as np\n",
        "import torchvision\n",
        "import matplotlib.pyplot as plt\n",
        "import time\n",
        "import copy\n",
        "\n",
        "from torchvision import transforms, models\n",
        "train_transforms = transforms.Compose([\n",
        "    transforms.RandomResizedCrop(224),\n",
        "    transforms.RandomHorizontalFlip(),\n",
        "    transforms.ToTensor(),\n",
        "    transforms.Normalize([0.485, 0.456, 0.406], [0.229, 0.224, 0.225])\n",
        "])\n",
        "\n",
        "val_transforms = transforms.Compose([\n",
        "    transforms.Resize((224, 224)),\n",
        "    transforms.ToTensor(),\n",
        "    transforms.Normalize([0.485, 0.456, 0.406], [0.229, 0.224, 0.225])\n",
        "])\n",
        "\n",
        "train_dataset = torchvision.datasets.ImageFolder(train_dir, train_transforms)\n",
        "val_dataset = torchvision.datasets.ImageFolder(val_dir, val_transforms)\n",
        "\n",
        "batch_size = 8\n",
        "train_dataloader = torch.utils.data.DataLoader(\n",
        "    train_dataset, batch_size=batch_size, shuffle=True, num_workers=batch_size)\n",
        "val_dataloader = torch.utils.data.DataLoader(\n",
        "    val_dataset, batch_size=batch_size, shuffle=False, num_workers=batch_size)"
      ],
      "metadata": {
        "id": "0XjEKCOIP660"
      },
      "execution_count": null,
      "outputs": []
    },
    {
      "cell_type": "markdown",
      "source": [
        "Проверяем, что train_dataset нацело делится на train_dataloader, иначе некоторые батчи не будут участвовать в обучении"
      ],
      "metadata": {
        "id": "8qSSf6jPaiw-"
      }
    },
    {
      "cell_type": "code",
      "source": [
        "len(train_dataloader), len(train_dataset)"
      ],
      "metadata": {
        "id": "g70ejPquP63_"
      },
      "execution_count": null,
      "outputs": []
    },
    {
      "cell_type": "markdown",
      "source": [
        "Хотим вывести оригинальное изображение, но так как мы меняли последовательность каналов и тд, то делаем обратную операцию методом permute, а также обратную нормализацию"
      ],
      "metadata": {
        "id": "BG1RL9HFa4IE"
      }
    },
    {
      "cell_type": "code",
      "source": [
        "X_batch, y_batch = next(iter(train_dataloader))\n",
        "mean = np.array([0.485, 0.456, 0.406])\n",
        "std = np.array([0.229, 0.224, 0.225])\n",
        "plt.imshow(X_batch[0].permute(1, 2, 0).numpy() * std + mean);"
      ],
      "metadata": {
        "id": "d0F6RL94P61a"
      },
      "execution_count": null,
      "outputs": []
    },
    {
      "cell_type": "markdown",
      "source": [
        "Проверяем наши получившиеся картинки. Может быть так, что вырежется область без нужного нам объекта (нужна тарелка, а после обрезания останется только стол), то нужно настроить параметры метода RandomResizedCrop"
      ],
      "metadata": {
        "id": "9eW49YDEbWEz"
      }
    },
    {
      "cell_type": "code",
      "source": [
        "def show_input(input_tensor, title=''):\n",
        "    image = input_tensor.permute(1, 2, 0).numpy()\n",
        "    image = std * image + mean\n",
        "    plt.imshow(image.clip(0, 1))\n",
        "    plt.title(title)\n",
        "    plt.show()\n",
        "    plt.pause(0.001)\n",
        "\n",
        "X_batch, y_batch = next(iter(train_dataloader))\n",
        "\n",
        "for x_item, y_item in zip(X_batch, y_batch):\n",
        "    show_input(x_item, title=class_names[y_item])"
      ],
      "metadata": {
        "id": "Ubt_ihJmP6y1"
      },
      "execution_count": null,
      "outputs": []
    },
    {
      "cell_type": "markdown",
      "source": [
        "Задаем функцию тренировки модели"
      ],
      "metadata": {
        "id": "-Da3CWSJdzWJ"
      }
    },
    {
      "cell_type": "code",
      "source": [
        "def train_model(model, loss, optimizer, scheduler, num_epochs):\n",
        "    for epoch in range(num_epochs):\n",
        "        print('Epoch {}/{}:'.format(epoch, num_epochs - 1), flush=True)\n",
        "\n",
        "        # Each epoch has a training and validation phase\n",
        "        for phase in ['train', 'val']:\n",
        "            if phase == 'train':\n",
        "                dataloader = train_dataloader\n",
        "                scheduler.step()\n",
        "                model.train()  # Set model to training mode. Фиксируем, так как могут изменяться некоторые параметры. Чтобы этого не происходило\n",
        "            else:\n",
        "                dataloader = val_dataloader\n",
        "                model.eval()   # Set model to evaluate mode\n",
        "\n",
        "            running_loss = 0.\n",
        "            running_acc = 0.\n",
        "\n",
        "            # Iterate over data.\n",
        "            for inputs, labels in tqdm(dataloader):\n",
        "                inputs = inputs.to(device)\n",
        "                labels = labels.to(device)\n",
        "\n",
        "                optimizer.zero_grad()\n",
        "\n",
        "                # forward and backward\n",
        "                with torch.set_grad_enabled(phase == 'train'):\n",
        "                    preds = model(inputs)\n",
        "                    loss_value = loss(preds, labels)\n",
        "                    preds_class = preds.argmax(dim=1)\n",
        "\n",
        "                    # backward + optimize only if in training phase\n",
        "                    if phase == 'train':\n",
        "                        loss_value.backward()\n",
        "                        optimizer.step()\n",
        "\n",
        "                # statistics\n",
        "                running_loss += loss_value.item()\n",
        "                running_acc += (preds_class == labels.data).float().mean()\n",
        "\n",
        "            epoch_loss = running_loss / len(dataloader)\n",
        "            epoch_acc = running_acc / len(dataloader)\n",
        "\n",
        "            print('{} Loss: {:.4f} Acc: {:.4f}'.format(phase, epoch_loss, epoch_acc), flush=True)\n",
        "\n",
        "    return model"
      ],
      "metadata": {
        "id": "AicmSAY9P6wS"
      },
      "execution_count": null,
      "outputs": []
    },
    {
      "cell_type": "markdown",
      "source": [
        "Задаем все вещи для обучения"
      ],
      "metadata": {
        "id": "oHcI3OZxbsPN"
      }
    },
    {
      "cell_type": "code",
      "source": [
        "model = models.resnet18(pretrained=True)\n",
        "\n",
        "# Disable grad for all conv layers\n",
        "# Делаем это, чтобы обучать не все слои, а только последний. Так как у нас маленький датасет\n",
        "# Здесь замораживаются все слои\n",
        "for param in model.parameters():\n",
        "    param.requires_grad = False\n",
        "# Здесь создаем новый незамороженный слой. 2 - количество выходов (cleaned и dirty)\n",
        "model.fc = torch.nn.Linear(model.fc.in_features, 2)\n",
        "\n",
        "device = torch.device(\"cuda:0\" if torch.cuda.is_available() else \"cpu\")\n",
        "model = model.to(device)\n",
        "\n",
        "loss = torch.nn.CrossEntropyLoss()\n",
        "optimizer = torch.optim.Adam(model.parameters(), amsgrad=True, lr=1.0e-3)\n",
        "\n",
        "# Decay LR by a factor of 0.1 every 7 epochs\n",
        "# Планировшик того, как будет уменьшаться шаг градиентного опсуска\n",
        "scheduler = torch.optim.lr_scheduler.StepLR(optimizer, step_size=7, gamma=0.1)"
      ],
      "metadata": {
        "id": "L1dQkMk7P6tm"
      },
      "execution_count": null,
      "outputs": []
    },
    {
      "cell_type": "code",
      "source": [
        "train_model(model, loss, optimizer, scheduler, num_epochs=100);"
      ],
      "metadata": {
        "id": "pCR7fEIwP6rD"
      },
      "execution_count": null,
      "outputs": []
    },
    {
      "cell_type": "markdown",
      "source": [
        "Начинаем предсказывать на тестовом датасете"
      ],
      "metadata": {
        "id": "vaIXI393fdJE"
      }
    },
    {
      "cell_type": "code",
      "source": [
        "test_dir = 'test'\n",
        "shutil.copytree(os.path.join(data_root, 'test'), os.path.join(test_dir, 'unknown'))"
      ],
      "metadata": {
        "id": "KNIy7_fvP6og"
      },
      "execution_count": null,
      "outputs": []
    },
    {
      "cell_type": "code",
      "source": [
        "class ImageFolderWithPaths(torchvision.datasets.ImageFolder):\n",
        "    def __getitem__(self, index):\n",
        "        original_tuple = super(ImageFolderWithPaths, self).__getitem__(index)\n",
        "        path = self.imgs[index][0]\n",
        "        tuple_with_path = (original_tuple + (path,))\n",
        "        return tuple_with_path\n",
        "    \n",
        "test_dataset = ImageFolderWithPaths('/kaggle/working/test', val_transforms)\n",
        "\n",
        "test_dataloader = torch.utils.data.DataLoader(\n",
        "    test_dataset, batch_size=batch_size, shuffle=False, num_workers=0)"
      ],
      "metadata": {
        "id": "MgO4_BD0P6li"
      },
      "execution_count": null,
      "outputs": []
    },
    {
      "cell_type": "code",
      "source": [
        "test_dataset"
      ],
      "metadata": {
        "id": "skvaMSzvP6i5"
      },
      "execution_count": null,
      "outputs": []
    },
    {
      "cell_type": "code",
      "source": [
        "model.eval()\n",
        "\n",
        "test_predictions = []\n",
        "test_img_paths = []\n",
        "for inputs, labels, paths in tqdm(test_dataloader):\n",
        "    inputs = inputs.to(device)\n",
        "    labels = labels.to(device)\n",
        "    with torch.set_grad_enabled(False):\n",
        "        preds = model(inputs)\n",
        "    test_predictions.append(\n",
        "        torch.nn.functional.softmax(preds, dim=1)[:,1].data.cpu().numpy())\n",
        "    test_img_paths.extend(paths)\n",
        "    \n",
        "test_predictions = np.concatenate(test_predictions)"
      ],
      "metadata": {
        "id": "fyn4u_mkP6gZ"
      },
      "execution_count": null,
      "outputs": []
    },
    {
      "cell_type": "code",
      "source": [
        "inputs, labels, paths = next(iter(test_dataloader))\n",
        "\n",
        "for img, pred in zip(inputs, test_predictions):\n",
        "    show_input(img, title=pred)"
      ],
      "metadata": {
        "id": "gQDi4fszP6dw"
      },
      "execution_count": null,
      "outputs": []
    },
    {
      "cell_type": "markdown",
      "source": [
        "Наши предикишены переводим в csv"
      ],
      "metadata": {
        "id": "d_9tdPEjgepB"
      }
    },
    {
      "cell_type": "code",
      "source": [
        "submission_df = pd.DataFrame.from_dict({'id': test_img_paths, 'label': test_predictions})"
      ],
      "metadata": {
        "id": "ZUywRbTrQTTY"
      },
      "execution_count": null,
      "outputs": []
    },
    {
      "cell_type": "code",
      "source": [
        "submission_df['label'] = submission_df['label'].map(lambda pred: 'dirty' if pred > 0.5 else 'cleaned')\n",
        "submission_df['id'] = submission_df['id'].str.replace('/kaggle/working/test/unknown/', '')\n",
        "submission_df['id'] = submission_df['id'].str.replace('.jpg', '')\n",
        "submission_df.set_index('id', inplace=True)\n",
        "submission_df.head(n=6)"
      ],
      "metadata": {
        "id": "Z_083iO6QUMz"
      },
      "execution_count": null,
      "outputs": []
    },
    {
      "cell_type": "code",
      "source": [
        "submission_df.to_csv('submission.csv')"
      ],
      "metadata": {
        "id": "TThc8Kk9QVn3"
      },
      "execution_count": null,
      "outputs": []
    },
    {
      "cell_type": "markdown",
      "source": [
        "Чистим те папки, которые уже не нужны"
      ],
      "metadata": {
        "id": "M2WGcUeogtCj"
      }
    },
    {
      "cell_type": "code",
      "source": [
        "!rm -rf train val test"
      ],
      "metadata": {
        "id": "W5v61rGNQWku"
      },
      "execution_count": null,
      "outputs": []
    }
  ]
}